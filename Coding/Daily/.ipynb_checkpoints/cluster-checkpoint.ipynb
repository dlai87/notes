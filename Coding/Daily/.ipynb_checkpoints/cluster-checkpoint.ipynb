{
 "cells": [
  {
   "cell_type": "code",
   "execution_count": 11,
   "metadata": {},
   "outputs": [
    {
     "ename": "AttributeError",
     "evalue": "'tuple' object has no attribute 'r'",
     "output_type": "error",
     "traceback": [
      "\u001b[0;31m---------------------------------------------------------------------------\u001b[0m",
      "\u001b[0;31mAttributeError\u001b[0m                            Traceback (most recent call last)",
      "\u001b[0;32m<ipython-input-11-5922b7f68ca3>\u001b[0m in \u001b[0;36m<module>\u001b[0;34m\u001b[0m\n\u001b[1;32m     65\u001b[0m     \u001b[0moutput\u001b[0m \u001b[0;34m=\u001b[0m \u001b[0;34m[\u001b[0m\u001b[0;34m]\u001b[0m\u001b[0;34m\u001b[0m\u001b[0;34m\u001b[0m\u001b[0m\n\u001b[1;32m     66\u001b[0m     \u001b[0;32mfor\u001b[0m \u001b[0mcluster\u001b[0m \u001b[0;32min\u001b[0m \u001b[0mcluster_set\u001b[0m\u001b[0;34m:\u001b[0m\u001b[0;34m\u001b[0m\u001b[0;34m\u001b[0m\u001b[0m\n\u001b[0;32m---> 67\u001b[0;31m         \u001b[0moutput\u001b[0m\u001b[0;34m.\u001b[0m\u001b[0mappend\u001b[0m\u001b[0;34m(\u001b[0m\u001b[0mcluster\u001b[0m\u001b[0;34m.\u001b[0m\u001b[0mgetBiggestCircle\u001b[0m\u001b[0;34m(\u001b[0m\u001b[0;34m)\u001b[0m\u001b[0;34m)\u001b[0m\u001b[0;34m\u001b[0m\u001b[0;34m\u001b[0m\u001b[0m\n\u001b[0m\u001b[1;32m     68\u001b[0m \u001b[0;34m\u001b[0m\u001b[0m\n\u001b[1;32m     69\u001b[0m     \u001b[0mprint\u001b[0m\u001b[0;34m(\u001b[0m\u001b[0moutput\u001b[0m\u001b[0;34m)\u001b[0m\u001b[0;34m\u001b[0m\u001b[0;34m\u001b[0m\u001b[0m\n",
      "\u001b[0;32m<ipython-input-11-5922b7f68ca3>\u001b[0m in \u001b[0;36mgetBiggestCircle\u001b[0;34m(self)\u001b[0m\n\u001b[1;32m     30\u001b[0m         \u001b[0mmax_r\u001b[0m \u001b[0;34m=\u001b[0m \u001b[0;36m0\u001b[0m\u001b[0;34m\u001b[0m\u001b[0;34m\u001b[0m\u001b[0m\n\u001b[1;32m     31\u001b[0m         \u001b[0;32mfor\u001b[0m \u001b[0mc\u001b[0m \u001b[0;32min\u001b[0m \u001b[0mself\u001b[0m\u001b[0;34m.\u001b[0m\u001b[0mcircles\u001b[0m\u001b[0;34m:\u001b[0m\u001b[0;34m\u001b[0m\u001b[0;34m\u001b[0m\u001b[0m\n\u001b[0;32m---> 32\u001b[0;31m             \u001b[0;32mif\u001b[0m \u001b[0mc\u001b[0m\u001b[0;34m.\u001b[0m\u001b[0mr\u001b[0m \u001b[0;34m>\u001b[0m \u001b[0mmax_r\u001b[0m\u001b[0;34m:\u001b[0m\u001b[0;34m\u001b[0m\u001b[0;34m\u001b[0m\u001b[0m\n\u001b[0m\u001b[1;32m     33\u001b[0m                 \u001b[0mresult\u001b[0m \u001b[0;34m=\u001b[0m \u001b[0mc\u001b[0m\u001b[0;34m\u001b[0m\u001b[0;34m\u001b[0m\u001b[0m\n\u001b[1;32m     34\u001b[0m                 \u001b[0mmax_r\u001b[0m \u001b[0;34m=\u001b[0m \u001b[0mc\u001b[0m\u001b[0;34m.\u001b[0m\u001b[0mr\u001b[0m\u001b[0;34m\u001b[0m\u001b[0;34m\u001b[0m\u001b[0m\n",
      "\u001b[0;31mAttributeError\u001b[0m: 'tuple' object has no attribute 'r'"
     ]
    }
   ],
   "source": [
    "import math \n",
    "\n",
    "def isOverlap(c1, c2): \n",
    "    if math.sqrt(pow((c1.x - c2.x),2) + pow((c1.y - c2.y),2)) <= c1.r + c2.r:\n",
    "        return True\n",
    "    return False\n",
    "\n",
    "class Circle():\n",
    "    def __init__(self, tuple): \n",
    "        self.x = tuple[0] \n",
    "        self.y = tuple[1]\n",
    "        self.r = tuple[2]\n",
    "        \n",
    "        \n",
    "class Cluster():\n",
    "    def __init__(self): \n",
    "        self.circles = []\n",
    "        \n",
    "    def overlap(self, circle): \n",
    "        for c in self.circles : \n",
    "            if isOverlap(c, circle):\n",
    "                return True\n",
    "        return False\n",
    "    \n",
    "    def merge(self, other): \n",
    "        self.circles.extend(other.circles)\n",
    "          \n",
    "    def getBiggestCircle(self): \n",
    "        result = None\n",
    "        max_r = 0 \n",
    "        for c in self.circles: \n",
    "            if c.r > max_r: \n",
    "                result = c \n",
    "                max_r = c.r\n",
    "        return result\n",
    "\n",
    "\n",
    "    \n",
    "    \n",
    "if __name__ == \"__main__\": \n",
    "    \n",
    "    input_data = [(0.5,0.5,0.5),(1.5,1.5,1.1),(0.7,0.7,1.4),(4,4,0.7)]\n",
    "    \n",
    "    cluster_set = set()\n",
    "    \n",
    "    cluster = Cluster()\n",
    "    cluster.circles.append(Circle(input_data[0]))\n",
    "    cluster_set.add(cluster)\n",
    "    \n",
    "    for i in range(1, len(input_data)):\n",
    "        current = Circle(input_data[i])\n",
    "        merge_clusters = []\n",
    "        for cluster in cluster_set: \n",
    "            if cluster.overlap(current): \n",
    "                cluster_set.add(cluster)\n",
    "                merge_clusters.append(cluster)\n",
    "        if len(merge_clusters) == 0 :\n",
    "            cluster = Cluster()\n",
    "            cluster.circles.append(current)\n",
    "            cluster_set.add(cluster)\n",
    "        elif len(merge_clusters) > 1:\n",
    "            for i in range(1, len(merge_clusters)): \n",
    "                merge_clusters[0].merge(merge_clusters[i])\n",
    "                cluster_set.remove(merge_clusters[i])\n",
    "    output = []         \n",
    "    for cluster in cluster_set: \n",
    "        output.append(cluster.getBiggestCircle())\n",
    "        \n",
    "    print(output)\n",
    "            \n",
    "        \n",
    "    c1 = Circle((0.5,0.5,0.5))\n",
    "    c2 = Circle((1.5,1.5,1.1))\n",
    "    print(isOverlap(c1,c2))\n",
    "    "
   ]
  },
  {
   "cell_type": "code",
   "execution_count": null,
   "metadata": {},
   "outputs": [],
   "source": []
  }
 ],
 "metadata": {
  "kernelspec": {
   "display_name": "Python 3",
   "language": "python",
   "name": "python3"
  },
  "language_info": {
   "codemirror_mode": {
    "name": "ipython",
    "version": 3
   },
   "file_extension": ".py",
   "mimetype": "text/x-python",
   "name": "python",
   "nbconvert_exporter": "python",
   "pygments_lexer": "ipython3",
   "version": "3.7.2"
  }
 },
 "nbformat": 4,
 "nbformat_minor": 2
}
